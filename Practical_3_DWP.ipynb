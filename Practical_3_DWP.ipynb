{
  "nbformat": 4,
  "nbformat_minor": 0,
  "metadata": {
    "colab": {
      "provenance": [],
      "authorship_tag": "ABX9TyOYw1vVTWIAueYv5a/UJEI3",
      "include_colab_link": true
    },
    "kernelspec": {
      "name": "python3",
      "display_name": "Python 3"
    },
    "language_info": {
      "name": "python"
    }
  },
  "cells": [
    {
      "cell_type": "markdown",
      "metadata": {
        "id": "view-in-github",
        "colab_type": "text"
      },
      "source": [
        "<a href=\"https://colab.research.google.com/github/medha-05/DWP-and-Tech-lab-Practicals/blob/main/Practical_3_DWP.ipynb\" target=\"_parent\"><img src=\"https://colab.research.google.com/assets/colab-badge.svg\" alt=\"Open In Colab\"/></a>"
      ]
    },
    {
      "cell_type": "code",
      "execution_count": null,
      "metadata": {
        "colab": {
          "base_uri": "https://localhost:8080/"
        },
        "id": "VysfRaN8fnqo",
        "outputId": "cfd843a3-4bb8-4160-f2ad-4ac34a13b5c4"
      },
      "outputs": [
        {
          "output_type": "stream",
          "name": "stdout",
          "text": [
            "   Color Size Category\n",
            "0    Red    S        A\n",
            "1  Green    M        B\n",
            "2   Blue    L        A\n",
            "3  Green    M        A\n",
            "4   Blue    L        B\n",
            "5    Red    S        C\n",
            "\n",
            "One Hot Encoding:\n",
            "   Color Size Category  Blue  Green  Red\n",
            "0    Red    S        A     0      0    1\n",
            "1  Green    M        B     0      1    0\n",
            "2   Blue    L        A     1      0    0\n",
            "3  Green    M        A     0      1    0\n",
            "4   Blue    L        B     1      0    0\n",
            "5    Red    S        C     0      0    1\n"
          ]
        }
      ],
      "source": [
        "# Data Wrangling\n",
        "# One hot encoding, label encoding, frequency encoding, ordinal encoding\n",
        "\n",
        "import pandas as pd\n",
        "from sklearn.preprocessing import LabelEncoder, OneHotEncoder\n",
        "import numpy as np\n",
        "\n",
        "# Sample dT for encoding\n",
        "data = {\n",
        "    'Color': ['Red', 'Green', 'Blue', 'Green', 'Blue' , 'Red'],\n",
        "    'Size': ['S', 'M', 'L', 'M', 'L', 'S'],\n",
        "    'Category': ['A', 'B', 'A', 'A', 'B', 'C']\n",
        "}\n",
        "\n",
        "# Creating a DataFrame\n",
        "df = pd.DataFrame(data)\n",
        "print(df)\n",
        "\n",
        "#---------- 1. One Hot Encoding ----------\n",
        "one_hot = pd.get_dummies(df['Color'], dtype= 'int')\n",
        "df_one_hot = pd.concat([df, one_hot], axis=1)\n",
        "print(\"\\nOne Hot Encoding:\")\n",
        "print(df_one_hot)"
      ]
    },
    {
      "cell_type": "code",
      "source": [
        "#---------- 2. label Encoding ----------\n",
        "label_encoder = LabelEncoder()\n",
        "df['Color_label'] = label_encoder.fit_transform(df['Color'])\n",
        "df['Size_label'] = label_encoder.fit_transform(df['Size'])\n",
        "df['Category_label'] = label_encoder.fit_transform(df['Category'])\n",
        "print(\"\\nLabel Encoding:\")\n",
        "print(df[['Color', 'Color_label', 'Size', 'Size_label', 'Category', 'Category_label']])"
      ],
      "metadata": {
        "colab": {
          "base_uri": "https://localhost:8080/"
        },
        "id": "X4TKfg52kk57",
        "outputId": "289eb2ed-9ca9-4a4f-c63b-be61bfd0519d"
      },
      "execution_count": null,
      "outputs": [
        {
          "output_type": "stream",
          "name": "stdout",
          "text": [
            "\n",
            "Label Encoding:\n",
            "   Color  Color_label Size  Size_label Category  Category_label\n",
            "0    Red            2    S           2        A               0\n",
            "1  Green            1    M           1        B               1\n",
            "2   Blue            0    L           0        A               0\n",
            "3  Green            1    M           1        A               0\n",
            "4   Blue            0    L           0        B               1\n",
            "5    Red            2    S           2        C               2\n"
          ]
        }
      ]
    },
    {
      "cell_type": "code",
      "source": [
        "#--------- 3. Frequency Encoding -----------\n",
        "freq_encoding = df['Category'].value_counts().to_dict()\n",
        "df['Category_Frequency'] = df['Category'].map(freq_encoding)\n",
        "print(\"\\nFrequency Encoding:\")\n",
        "print(df[['Category', 'Category_Frequency']])\n"
      ],
      "metadata": {
        "colab": {
          "base_uri": "https://localhost:8080/"
        },
        "id": "sOuDz3BwkyZC",
        "outputId": "139306bb-34ec-4d98-af9f-c9cf9bc0acf2"
      },
      "execution_count": null,
      "outputs": [
        {
          "output_type": "stream",
          "name": "stdout",
          "text": [
            "\n",
            "Frequency Encoding:\n",
            "  Category  Category_Frequency\n",
            "0        A                   3\n",
            "1        B                   2\n",
            "2        A                   3\n",
            "3        A                   3\n",
            "4        B                   2\n",
            "5        C                   1\n"
          ]
        }
      ]
    },
    {
      "cell_type": "code",
      "source": [
        "#---------- 4. Ordinal Encoding -----------\n",
        "# Ordinal mapping based on predefined order\n",
        "ordinal_mapping = {'S': 1, 'M': 2, 'L': 3}\n",
        "df['Size_Ordinal'] = df['Size'].map(ordinal_mapping)\n",
        "print(\"\\nOrdinal Encoding:\")\n",
        "print(df[['Size', 'Size_Ordinal']])\n"
      ],
      "metadata": {
        "colab": {
          "base_uri": "https://localhost:8080/"
        },
        "id": "tLi6ghUKl0Ub",
        "outputId": "038418e0-a7bf-4eb3-9ec9-90efc5ecde34"
      },
      "execution_count": null,
      "outputs": [
        {
          "output_type": "stream",
          "name": "stdout",
          "text": [
            "\n",
            "Ordinal Encoding:\n",
            "  Size  Size_Ordinal\n",
            "0    S             1\n",
            "1    M             2\n",
            "2    L             3\n",
            "3    M             2\n",
            "4    L             3\n",
            "5    S             1\n"
          ]
        }
      ]
    },
    {
      "cell_type": "code",
      "source": [
        "#--------- 5. Mean Encoding -----------\n",
        "mean_encoding = df.groupby('Category')['Size'].apply(lambda x: x.map({'S':1, 'M':2, 'L':3}).mean()).to_dict()\n",
        "df['Category_Mean'] = df['Category'].map(mean_encoding)\n",
        "print(\"\\nMean Encoding:\")\n",
        "print(df[['Category', 'Category_Mean']])"
      ],
      "metadata": {
        "colab": {
          "base_uri": "https://localhost:8080/"
        },
        "id": "EYljW3zVmtli",
        "outputId": "2de8050b-82ce-455d-a2ff-6f515baadac1"
      },
      "execution_count": null,
      "outputs": [
        {
          "output_type": "stream",
          "name": "stdout",
          "text": [
            "\n",
            "Mean Encoding:\n",
            "  Category  Category_Mean\n",
            "0        A            2.0\n",
            "1        B            2.5\n",
            "2        A            2.0\n",
            "3        A            2.0\n",
            "4        B            2.5\n",
            "5        C            1.0\n"
          ]
        }
      ]
    }
  ]
}